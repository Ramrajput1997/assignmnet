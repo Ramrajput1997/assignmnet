{
 "cells": [
  {
   "cell_type": "code",
   "execution_count": 32,
   "id": "53d49cdf-2961-4bfc-858d-7fe684c52405",
   "metadata": {},
   "outputs": [
    {
     "name": "stdout",
     "output_type": "stream",
     "text": [
      "ram\n",
      "anil\n",
      "subash\n",
      "shrey\n"
     ]
    }
   ],
   "source": [
    "# change laist in upper case\n",
    "L1=[]\n",
    "for i in L:\n",
    "    print(i)\n",
    "    L1.append(i.upper())\n",
    "    \n",
    "    "
   ]
  },
  {
   "cell_type": "code",
   "execution_count": 31,
   "id": "5c5ee3a2-528e-4850-8267-b96e34259d47",
   "metadata": {},
   "outputs": [],
   "source": [
    "L=['ram','anil','subash','shrey']"
   ]
  },
  {
   "cell_type": "code",
   "execution_count": 38,
   "id": "bd7997cc-2fa1-4fd4-943b-98998e9b1c2e",
   "metadata": {},
   "outputs": [
    {
     "ename": "NameError",
     "evalue": "name 'L3' is not defined",
     "output_type": "error",
     "traceback": [
      "\u001b[0;31m---------------------------------------------------------------------------\u001b[0m",
      "\u001b[0;31mNameError\u001b[0m                                 Traceback (most recent call last)",
      "Cell \u001b[0;32mIn[38], line 1\u001b[0m\n\u001b[0;32m----> 1\u001b[0m \u001b[38;5;28mprint\u001b[39m(\u001b[43mL3\u001b[49m)\n",
      "\u001b[0;31mNameError\u001b[0m: name 'L3' is not defined"
     ]
    }
   ],
   "source": [
    "print(L3)\n",
    "\n",
    "\n"
   ]
  },
  {
   "cell_type": "code",
   "execution_count": 36,
   "id": "66977bed-c56e-4291-8c08-4ad4de774490",
   "metadata": {},
   "outputs": [],
   "source": [
    "L2 = ['ram','shrey','jai',1,2,3,566]"
   ]
  },
  {
   "cell_type": "markdown",
   "id": "4ea107fc-6c41-4fa9-8ba0-be9804e0579a",
   "metadata": {},
   "source": [
    "L3 = []\n",
    "L4 = []\n",
    "for i in L2 :\n",
    "    if type(i) == int or type(i) == float :\n",
    "       L3.append(i)\n",
    "    else :\n",
    "       L4.append(i)\n",
    "       \n",
    "  \n",
    "\n",
    "\n",
    "\n"
   ]
  },
  {
   "cell_type": "code",
   "execution_count": 39,
   "id": "42775921-68dc-4c73-bb76-3f6933a27bc4",
   "metadata": {},
   "outputs": [
    {
     "ename": "NameError",
     "evalue": "name 'L3' is not defined",
     "output_type": "error",
     "traceback": [
      "\u001b[0;31m---------------------------------------------------------------------------\u001b[0m",
      "\u001b[0;31mNameError\u001b[0m                                 Traceback (most recent call last)",
      "Cell \u001b[0;32mIn[39], line 1\u001b[0m\n\u001b[0;32m----> 1\u001b[0m \u001b[38;5;28mprint\u001b[39m(\u001b[43mL3\u001b[49m)\n",
      "\u001b[0;31mNameError\u001b[0m: name 'L3' is not defined"
     ]
    }
   ],
   "source": [
    "print(L3)"
   ]
  },
  {
   "cell_type": "code",
   "execution_count": 40,
   "id": "90edd39b-a0fc-4574-889c-4ff14e1efed9",
   "metadata": {},
   "outputs": [],
   "source": [
    "# int or ste alg alg krne ho \n",
    "\n",
    "L3 = []\n",
    "L4 = []\n",
    "for i in L2 :\n",
    "    if type(i) == int or type(i) == float :\n",
    "       L3.append(i)\n",
    "    else :\n",
    "       L4.append(i)"
   ]
  },
  {
   "cell_type": "code",
   "execution_count": 41,
   "id": "602c84d9-d795-497c-93a0-7831a7ae6064",
   "metadata": {},
   "outputs": [
    {
     "name": "stdout",
     "output_type": "stream",
     "text": [
      "[1, 2, 3, 566]\n"
     ]
    }
   ],
   "source": [
    "print(L3)"
   ]
  },
  {
   "cell_type": "code",
   "execution_count": 43,
   "id": "5bd0e8ad-650c-4ec7-9acd-09eed28a5480",
   "metadata": {},
   "outputs": [
    {
     "name": "stdout",
     "output_type": "stream",
     "text": [
      "['ram', 'shrey', 'jai']\n"
     ]
    }
   ],
   "source": [
    "print(L4)"
   ]
  },
  {
   "cell_type": "code",
   "execution_count": 1,
   "id": "ff84b85f-18c3-475b-879d-bc8711985caf",
   "metadata": {},
   "outputs": [],
   "source": [
    "P=[1,23,45,78,4]"
   ]
  },
  {
   "cell_type": "code",
   "execution_count": 3,
   "id": "c2c7a895-c215-498a-93cd-3d612a7f0af7",
   "metadata": {},
   "outputs": [
    {
     "name": "stdout",
     "output_type": "stream",
     "text": [
      "[1, 23, 45, 78, 4]\n"
     ]
    }
   ],
   "source": [
    "print(P)"
   ]
  },
  {
   "cell_type": "code",
   "execution_count": 4,
   "id": "6fae5760-58e8-4a75-8c70-74a985772d52",
   "metadata": {},
   "outputs": [],
   "source": [
    "# p list m 1 jod do\n",
    "\n",
    "q =[]\n",
    "for i in P :\n",
    "    q.append(i+1)\n",
    " "
   ]
  },
  {
   "cell_type": "code",
   "execution_count": 5,
   "id": "6118c9a2-a1bb-45a9-abbd-c5dc91991a53",
   "metadata": {},
   "outputs": [
    {
     "name": "stdout",
     "output_type": "stream",
     "text": [
      "[2, 24, 46, 79, 5]\n"
     ]
    }
   ],
   "source": [
    "print(q)"
   ]
  },
  {
   "cell_type": "code",
   "execution_count": 9,
   "id": "00e4ccfe-86af-49d4-aef2-56216d4a98af",
   "metadata": {},
   "outputs": [
    {
     "name": "stdout",
     "output_type": "stream",
     "text": [
      "1\n",
      "23\n",
      "45\n",
      "78\n",
      "4\n"
     ]
    }
   ],
   "source": [
    "q =[]\n",
    "for i in P :\n",
    "    print(i)\n",
    "    q.append(i+1)"
   ]
  },
  {
   "cell_type": "code",
   "execution_count": 10,
   "id": "51499f99-2815-4472-8b32-f1e991625b41",
   "metadata": {},
   "outputs": [
    {
     "name": "stdout",
     "output_type": "stream",
     "text": [
      "[2, 24, 46, 79, 5]\n"
     ]
    }
   ],
   "source": [
    "print(q)"
   ]
  },
  {
   "cell_type": "code",
   "execution_count": null,
   "id": "d0572a18-88a7-4b54-8a3c-ef6a0c9ee0f5",
   "metadata": {},
   "outputs": [],
   "source": []
  }
 ],
 "metadata": {
  "kernelspec": {
   "display_name": "Python 3 (ipykernel)",
   "language": "python",
   "name": "python3"
  },
  "language_info": {
   "codemirror_mode": {
    "name": "ipython",
    "version": 3
   },
   "file_extension": ".py",
   "mimetype": "text/x-python",
   "name": "python",
   "nbconvert_exporter": "python",
   "pygments_lexer": "ipython3",
   "version": "3.10.8"
  }
 },
 "nbformat": 4,
 "nbformat_minor": 5
}
